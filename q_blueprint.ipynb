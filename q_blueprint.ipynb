{
  "nbformat": 4,
  "nbformat_minor": 0,
  "metadata": {
    "colab": {
      "provenance": [],
      "authorship_tag": "ABX9TyNMYRO7zvhW1y81gGF77CIv",
      "include_colab_link": true
    },
    "kernelspec": {
      "name": "python3",
      "display_name": "Python 3"
    },
    "language_info": {
      "name": "python"
    }
  },
  "cells": [
    {
      "cell_type": "markdown",
      "metadata": {
        "id": "view-in-github",
        "colab_type": "text"
      },
      "source": [
        "<a href=\"https://colab.research.google.com/github/TomMcIver/Q-Paper/blob/main/q_blueprint.ipynb\" target=\"_parent\"><img src=\"https://colab.research.google.com/assets/colab-badge.svg\" alt=\"Open In Colab\"/></a>"
      ]
    },
    {
      "cell_type": "code",
      "source": [
        "!pip uninstall -y qiskit qiskit-aer qiskit-terra qiskit-ibmq-provider\n",
        "!pip install qiskit qiskit-aer --upgrade\n",
        "!pip install PennyLane-Lightning\n"
      ],
      "metadata": {
        "colab": {
          "base_uri": "https://localhost:8080/"
        },
        "id": "AE6cqY3C16ls",
        "outputId": "441e4aba-609b-4a8a-b53a-8aca53405c83"
      },
      "execution_count": 2,
      "outputs": [
        {
          "output_type": "stream",
          "name": "stdout",
          "text": [
            "\u001b[33mWARNING: Skipping qiskit as it is not installed.\u001b[0m\u001b[33m\n",
            "\u001b[0m\u001b[33mWARNING: Skipping qiskit-aer as it is not installed.\u001b[0m\u001b[33m\n",
            "\u001b[0m\u001b[33mWARNING: Skipping qiskit-terra as it is not installed.\u001b[0m\u001b[33m\n",
            "\u001b[0m\u001b[33mWARNING: Skipping qiskit-ibmq-provider as it is not installed.\u001b[0m\u001b[33m\n",
            "\u001b[0mCollecting qiskit\n",
            "  Downloading qiskit-1.3.2-cp39-abi3-manylinux_2_17_x86_64.manylinux2014_x86_64.whl.metadata (12 kB)\n",
            "Collecting qiskit-aer\n",
            "  Downloading qiskit_aer-0.16.1-cp311-cp311-manylinux_2_17_x86_64.manylinux2014_x86_64.whl.metadata (8.2 kB)\n",
            "Collecting rustworkx>=0.15.0 (from qiskit)\n",
            "  Downloading rustworkx-0.16.0-cp39-abi3-manylinux_2_17_x86_64.manylinux2014_x86_64.whl.metadata (10 kB)\n",
            "Requirement already satisfied: numpy<3,>=1.17 in /usr/local/lib/python3.11/dist-packages (from qiskit) (1.26.4)\n",
            "Requirement already satisfied: scipy>=1.5 in /usr/local/lib/python3.11/dist-packages (from qiskit) (1.13.1)\n",
            "Requirement already satisfied: sympy>=1.3 in /usr/local/lib/python3.11/dist-packages (from qiskit) (1.13.1)\n",
            "Collecting dill>=0.3 (from qiskit)\n",
            "  Downloading dill-0.3.9-py3-none-any.whl.metadata (10 kB)\n",
            "Requirement already satisfied: python-dateutil>=2.8.0 in /usr/local/lib/python3.11/dist-packages (from qiskit) (2.8.2)\n",
            "Collecting stevedore>=3.0.0 (from qiskit)\n",
            "  Downloading stevedore-5.4.0-py3-none-any.whl.metadata (2.3 kB)\n",
            "Requirement already satisfied: typing-extensions in /usr/local/lib/python3.11/dist-packages (from qiskit) (4.12.2)\n",
            "Collecting symengine<0.14,>=0.11 (from qiskit)\n",
            "  Downloading symengine-0.13.0-cp311-cp311-manylinux_2_17_x86_64.manylinux2014_x86_64.whl.metadata (1.2 kB)\n",
            "Requirement already satisfied: psutil>=5 in /usr/local/lib/python3.11/dist-packages (from qiskit-aer) (5.9.5)\n",
            "Requirement already satisfied: six>=1.5 in /usr/local/lib/python3.11/dist-packages (from python-dateutil>=2.8.0->qiskit) (1.17.0)\n",
            "Collecting pbr>=2.0.0 (from stevedore>=3.0.0->qiskit)\n",
            "  Downloading pbr-6.1.1-py2.py3-none-any.whl.metadata (3.4 kB)\n",
            "Requirement already satisfied: mpmath<1.4,>=1.1.0 in /usr/local/lib/python3.11/dist-packages (from sympy>=1.3->qiskit) (1.3.0)\n",
            "Requirement already satisfied: setuptools in /usr/local/lib/python3.11/dist-packages (from pbr>=2.0.0->stevedore>=3.0.0->qiskit) (75.1.0)\n",
            "Downloading qiskit-1.3.2-cp39-abi3-manylinux_2_17_x86_64.manylinux2014_x86_64.whl (6.8 MB)\n",
            "\u001b[2K   \u001b[90m━━━━━━━━━━━━━━━━━━━━━━━━━━━━━━━━━━━━━━━━\u001b[0m \u001b[32m6.8/6.8 MB\u001b[0m \u001b[31m41.8 MB/s\u001b[0m eta \u001b[36m0:00:00\u001b[0m\n",
            "\u001b[?25hDownloading qiskit_aer-0.16.1-cp311-cp311-manylinux_2_17_x86_64.manylinux2014_x86_64.whl (12.4 MB)\n",
            "\u001b[2K   \u001b[90m━━━━━━━━━━━━━━━━━━━━━━━━━━━━━━━━━━━━━━━━\u001b[0m \u001b[32m12.4/12.4 MB\u001b[0m \u001b[31m58.8 MB/s\u001b[0m eta \u001b[36m0:00:00\u001b[0m\n",
            "\u001b[?25hDownloading dill-0.3.9-py3-none-any.whl (119 kB)\n",
            "\u001b[2K   \u001b[90m━━━━━━━━━━━━━━━━━━━━━━━━━━━━━━━━━━━━━━━━\u001b[0m \u001b[32m119.4/119.4 kB\u001b[0m \u001b[31m5.8 MB/s\u001b[0m eta \u001b[36m0:00:00\u001b[0m\n",
            "\u001b[?25hDownloading rustworkx-0.16.0-cp39-abi3-manylinux_2_17_x86_64.manylinux2014_x86_64.whl (2.1 MB)\n",
            "\u001b[2K   \u001b[90m━━━━━━━━━━━━━━━━━━━━━━━━━━━━━━━━━━━━━━━━\u001b[0m \u001b[32m2.1/2.1 MB\u001b[0m \u001b[31m45.8 MB/s\u001b[0m eta \u001b[36m0:00:00\u001b[0m\n",
            "\u001b[?25hDownloading stevedore-5.4.0-py3-none-any.whl (49 kB)\n",
            "\u001b[2K   \u001b[90m━━━━━━━━━━━━━━━━━━━━━━━━━━━━━━━━━━━━━━━━\u001b[0m \u001b[32m49.5/49.5 kB\u001b[0m \u001b[31m810.8 kB/s\u001b[0m eta \u001b[36m0:00:00\u001b[0m\n",
            "\u001b[?25hDownloading symengine-0.13.0-cp311-cp311-manylinux_2_17_x86_64.manylinux2014_x86_64.whl (49.7 MB)\n",
            "\u001b[2K   \u001b[90m━━━━━━━━━━━━━━━━━━━━━━━━━━━━━━━━━━━━━━━━\u001b[0m \u001b[32m49.7/49.7 MB\u001b[0m \u001b[31m11.4 MB/s\u001b[0m eta \u001b[36m0:00:00\u001b[0m\n",
            "\u001b[?25hDownloading pbr-6.1.1-py2.py3-none-any.whl (108 kB)\n",
            "\u001b[2K   \u001b[90m━━━━━━━━━━━━━━━━━━━━━━━━━━━━━━━━━━━━━━━━\u001b[0m \u001b[32m109.0/109.0 kB\u001b[0m \u001b[31m5.5 MB/s\u001b[0m eta \u001b[36m0:00:00\u001b[0m\n",
            "\u001b[?25hInstalling collected packages: symengine, rustworkx, pbr, dill, stevedore, qiskit, qiskit-aer\n",
            "Successfully installed dill-0.3.9 pbr-6.1.1 qiskit-1.3.2 qiskit-aer-0.16.1 rustworkx-0.16.0 stevedore-5.4.0 symengine-0.13.0\n",
            "Collecting PennyLane-Lightning\n",
            "  Downloading PennyLane_Lightning-0.40.0-cp311-cp311-manylinux_2_28_x86_64.whl.metadata (27 kB)\n",
            "Collecting pennylane>=0.37 (from PennyLane-Lightning)\n",
            "  Downloading PennyLane-0.40.0-py3-none-any.whl.metadata (10 kB)\n",
            "Collecting scipy-openblas32>=0.3.26 (from PennyLane-Lightning)\n",
            "  Downloading scipy_openblas32-0.3.29.0.0-py3-none-manylinux_2_17_x86_64.manylinux2014_x86_64.whl.metadata (56 kB)\n",
            "\u001b[2K     \u001b[90m━━━━━━━━━━━━━━━━━━━━━━━━━━━━━━━━━━━━━━━━\u001b[0m \u001b[32m56.1/56.1 kB\u001b[0m \u001b[31m2.9 MB/s\u001b[0m eta \u001b[36m0:00:00\u001b[0m\n",
            "\u001b[?25hRequirement already satisfied: numpy<2.1 in /usr/local/lib/python3.11/dist-packages (from pennylane>=0.37->PennyLane-Lightning) (1.26.4)\n",
            "Requirement already satisfied: scipy in /usr/local/lib/python3.11/dist-packages (from pennylane>=0.37->PennyLane-Lightning) (1.13.1)\n",
            "Requirement already satisfied: networkx in /usr/local/lib/python3.11/dist-packages (from pennylane>=0.37->PennyLane-Lightning) (3.4.2)\n",
            "Requirement already satisfied: rustworkx>=0.14.0 in /usr/local/lib/python3.11/dist-packages (from pennylane>=0.37->PennyLane-Lightning) (0.16.0)\n",
            "Requirement already satisfied: autograd in /usr/local/lib/python3.11/dist-packages (from pennylane>=0.37->PennyLane-Lightning) (1.7.0)\n",
            "Collecting tomlkit (from pennylane>=0.37->PennyLane-Lightning)\n",
            "  Downloading tomlkit-0.13.2-py3-none-any.whl.metadata (2.7 kB)\n",
            "Collecting appdirs (from pennylane>=0.37->PennyLane-Lightning)\n",
            "  Downloading appdirs-1.4.4-py2.py3-none-any.whl.metadata (9.0 kB)\n",
            "Collecting autoray>=0.6.11 (from pennylane>=0.37->PennyLane-Lightning)\n",
            "  Downloading autoray-0.7.0-py3-none-any.whl.metadata (5.8 kB)\n",
            "Requirement already satisfied: cachetools in /usr/local/lib/python3.11/dist-packages (from pennylane>=0.37->PennyLane-Lightning) (5.5.1)\n",
            "Requirement already satisfied: requests in /usr/local/lib/python3.11/dist-packages (from pennylane>=0.37->PennyLane-Lightning) (2.32.3)\n",
            "Requirement already satisfied: typing-extensions in /usr/local/lib/python3.11/dist-packages (from pennylane>=0.37->PennyLane-Lightning) (4.12.2)\n",
            "Requirement already satisfied: packaging in /usr/local/lib/python3.11/dist-packages (from pennylane>=0.37->PennyLane-Lightning) (24.2)\n",
            "Collecting diastatic-malt (from pennylane>=0.37->PennyLane-Lightning)\n",
            "  Downloading diastatic_malt-2.15.2-py3-none-any.whl.metadata (2.6 kB)\n",
            "Requirement already satisfied: astunparse in /usr/local/lib/python3.11/dist-packages (from diastatic-malt->pennylane>=0.37->PennyLane-Lightning) (1.6.3)\n",
            "Requirement already satisfied: gast in /usr/local/lib/python3.11/dist-packages (from diastatic-malt->pennylane>=0.37->PennyLane-Lightning) (0.6.0)\n",
            "Requirement already satisfied: termcolor in /usr/local/lib/python3.11/dist-packages (from diastatic-malt->pennylane>=0.37->PennyLane-Lightning) (2.5.0)\n",
            "Requirement already satisfied: charset-normalizer<4,>=2 in /usr/local/lib/python3.11/dist-packages (from requests->pennylane>=0.37->PennyLane-Lightning) (3.4.1)\n",
            "Requirement already satisfied: idna<4,>=2.5 in /usr/local/lib/python3.11/dist-packages (from requests->pennylane>=0.37->PennyLane-Lightning) (3.10)\n",
            "Requirement already satisfied: urllib3<3,>=1.21.1 in /usr/local/lib/python3.11/dist-packages (from requests->pennylane>=0.37->PennyLane-Lightning) (2.3.0)\n",
            "Requirement already satisfied: certifi>=2017.4.17 in /usr/local/lib/python3.11/dist-packages (from requests->pennylane>=0.37->PennyLane-Lightning) (2025.1.31)\n",
            "Requirement already satisfied: wheel<1.0,>=0.23.0 in /usr/local/lib/python3.11/dist-packages (from astunparse->diastatic-malt->pennylane>=0.37->PennyLane-Lightning) (0.45.1)\n",
            "Requirement already satisfied: six<2.0,>=1.6.1 in /usr/local/lib/python3.11/dist-packages (from astunparse->diastatic-malt->pennylane>=0.37->PennyLane-Lightning) (1.17.0)\n",
            "Downloading PennyLane_Lightning-0.40.0-cp311-cp311-manylinux_2_28_x86_64.whl (2.4 MB)\n",
            "\u001b[2K   \u001b[90m━━━━━━━━━━━━━━━━━━━━━━━━━━━━━━━━━━━━━━━━\u001b[0m \u001b[32m2.4/2.4 MB\u001b[0m \u001b[31m38.1 MB/s\u001b[0m eta \u001b[36m0:00:00\u001b[0m\n",
            "\u001b[?25hDownloading PennyLane-0.40.0-py3-none-any.whl (2.0 MB)\n",
            "\u001b[2K   \u001b[90m━━━━━━━━━━━━━━━━━━━━━━━━━━━━━━━━━━━━━━━━\u001b[0m \u001b[32m2.0/2.0 MB\u001b[0m \u001b[31m70.5 MB/s\u001b[0m eta \u001b[36m0:00:00\u001b[0m\n",
            "\u001b[?25hDownloading scipy_openblas32-0.3.29.0.0-py3-none-manylinux_2_17_x86_64.manylinux2014_x86_64.whl (8.6 MB)\n",
            "\u001b[2K   \u001b[90m━━━━━━━━━━━━━━━━━━━━━━━━━━━━━━━━━━━━━━━━\u001b[0m \u001b[32m8.6/8.6 MB\u001b[0m \u001b[31m100.7 MB/s\u001b[0m eta \u001b[36m0:00:00\u001b[0m\n",
            "\u001b[?25hDownloading autoray-0.7.0-py3-none-any.whl (930 kB)\n",
            "\u001b[2K   \u001b[90m━━━━━━━━━━━━━━━━━━━━━━━━━━━━━━━━━━━━━━━━\u001b[0m \u001b[32m930.0/930.0 kB\u001b[0m \u001b[31m48.9 MB/s\u001b[0m eta \u001b[36m0:00:00\u001b[0m\n",
            "\u001b[?25hDownloading appdirs-1.4.4-py2.py3-none-any.whl (9.6 kB)\n",
            "Downloading diastatic_malt-2.15.2-py3-none-any.whl (167 kB)\n",
            "\u001b[2K   \u001b[90m━━━━━━━━━━━━━━━━━━━━━━━━━━━━━━━━━━━━━━━━\u001b[0m \u001b[32m167.9/167.9 kB\u001b[0m \u001b[31m13.4 MB/s\u001b[0m eta \u001b[36m0:00:00\u001b[0m\n",
            "\u001b[?25hDownloading tomlkit-0.13.2-py3-none-any.whl (37 kB)\n",
            "Installing collected packages: appdirs, tomlkit, scipy-openblas32, autoray, diastatic-malt, pennylane, PennyLane-Lightning\n",
            "Successfully installed PennyLane-Lightning-0.40.0 appdirs-1.4.4 autoray-0.7.0 diastatic-malt-2.15.2 pennylane-0.40.0 scipy-openblas32-0.3.29.0.0 tomlkit-0.13.2\n"
          ]
        }
      ]
    },
    {
      "cell_type": "code",
      "execution_count": 3,
      "metadata": {
        "id": "XyCl7COj1k0Q"
      },
      "outputs": [],
      "source": [
        "import numpy as np\n",
        "import matplotlib.pyplot as plt\n",
        "from qiskit import QuantumCircuit, transpile\n",
        "from qiskit_aer import Aer\n",
        "from qiskit.visualization import plot_bloch_multivector, plot_histogram\n",
        "import pennylane as qml\n",
        "\n",
        "plt.rcParams[\"figure.figsize\"] = (8, 6)\n"
      ]
    },
    {
      "cell_type": "code",
      "source": [
        "import numpy as np\n",
        "\n",
        "class Qubit:\n",
        "    def __init__(self):\n",
        "\n",
        "        self.state = np.array([1, 0], dtype=complex)\n",
        "\n",
        "    def apply_hadamard(self):\n",
        "        #apply Hadamard gate\n",
        "        H = np.array([[1, 1], [1, -1]]) / np.sqrt(2)\n",
        "        self.state = H @ self.state\n",
        "\n",
        "    def measure(self):\n",
        "        # measure the qubit returns 0 or 1 with a rough 50% probability\n",
        "        return np.random.choice([0, 1], p=np.abs(self.state)**2)\n",
        "\n",
        "\n",
        "qubit = Qubit()\n",
        "\n",
        "print(\"Before Hadamard:\", qubit.state)\n",
        "\n",
        "\n",
        "qubit.apply_hadamard()\n",
        "\n",
        "print(\"After Hadamard:\", qubit.state)\n",
        "\n",
        "\n",
        "results = [qubit.measure() for _ in range(10)]\n",
        "print(\"Measurement results:\", results)\n"
      ],
      "metadata": {
        "colab": {
          "base_uri": "https://localhost:8080/"
        },
        "id": "043MOL001ylU",
        "outputId": "ab518c66-5b47-4ca7-a1f4-d6179508db55"
      },
      "execution_count": 4,
      "outputs": [
        {
          "output_type": "stream",
          "name": "stdout",
          "text": [
            "Before Hadamard: [1.+0.j 0.+0.j]\n",
            "After Hadamard: [0.70710678+0.j 0.70710678+0.j]\n",
            "Measurement results: [0, 1, 1, 1, 1, 0, 0, 0, 0, 0]\n"
          ]
        }
      ]
    },
    {
      "cell_type": "markdown",
      "source": [
        "### This code shows the initialization of a Qubit of |0⟩ and |1⟩ in superposition using the Hadamrd gate.  And how the probablityes work when measured."
      ],
      "metadata": {
        "id": "Mrp_JNpnDW_m"
      }
    },
    {
      "cell_type": "code",
      "source": [
        "import numpy as np\n",
        "\n",
        "class QuantumRegister:\n",
        "    def __init__(self):\n",
        "\n",
        "        self.state = np.array([1, 0, 0, 0], dtype=complex)\n",
        "\n",
        "    def apply_hadamard(self, qubit):\n",
        "         #hadamard gate to one qubit.\n",
        "        H = np.array([[1, 1], [1, -1]]) / np.sqrt(2)\n",
        "        gate = np.kron(H, np.eye(2)) if qubit == 0 else np.kron(np.eye(2), H)\n",
        "        self.state = gate @ self.state\n",
        "\n",
        "    def apply_cnot(self):\n",
        "        \"\"\" Apply CNOT gate to entangle qubits. \"\"\"\n",
        "        CNOT = np.array([[1, 0, 0, 0], [0, 1, 0, 0], [0, 0, 0, 1], [0, 0, 1, 0]])\n",
        "        self.state = CNOT @ self.state\n",
        "\n",
        "    def measure(self):\n",
        "        \"\"\" Measure the qubits and return 00, 01, 10, or 11. \"\"\"\n",
        "        return np.random.choice([0, 1, 2, 3], p=np.abs(self.state)**2)\n",
        "\n",
        "# apply hadamard & cnot aka: entanglement\n",
        "register = QuantumRegister()\n",
        "register.apply_hadamard(0)\n",
        "register.apply_cnot()\n",
        "\n",
        "# bell state\n",
        "bell_state = register.state\n",
        "print(f\"Bell State: ({bell_state[0]:.2f})|00⟩ + ({bell_state[3]:.2f})|11⟩\")\n",
        "\n",
        "# measure\n",
        "results = [f\"{register.measure():02b}\" for _ in range(10)]\n",
        "print(\"Measurement outcomes:\", \", \".join(results))\n"
      ],
      "metadata": {
        "colab": {
          "base_uri": "https://localhost:8080/"
        },
        "id": "3CnlXSDfEbR_",
        "outputId": "050487a3-359d-4edf-9fa8-142ef8c8a62f"
      },
      "execution_count": 5,
      "outputs": [
        {
          "output_type": "stream",
          "name": "stdout",
          "text": [
            "Bell State: (0.71+0.00j)|00⟩ + (0.71+0.00j)|11⟩\n",
            "Measurement outcomes: 11, 11, 11, 11, 00, 11, 00, 00, 00, 11\n"
          ]
        }
      ]
    },
    {
      "cell_type": "markdown",
      "source": [
        "### This creates a register of a quantum system that uses two qubits puts one in a superposition and then entangles it with another (more specifically a bell state this is mainly sued for 2 qubits). From there we get the bell state and then measure the system collapsing the qubits into there different states."
      ],
      "metadata": {
        "id": "wD2lTOirIw2W"
      }
    },
    {
      "cell_type": "code",
      "source": [
        "import pennylane as qml\n",
        "import numpy as np\n",
        "\n",
        "#2 qubits\n",
        "dev = qml.device(\"lightning.qubit\", wires=2)\n",
        "\n",
        "# variational quantum circuit\n",
        "@qml.qnode(dev)\n",
        "def variational_circuit(params, x):\n",
        "\n",
        "    qml.RX(x, wires=0)\n",
        "\n",
        "    # apply parameterized rotations on both qubits\n",
        "    qml.RY(params[0], wires=0)\n",
        "    qml.RY(params[1], wires=1)\n",
        "\n",
        "    # entanglement with a CNOT gate\n",
        "    qml.CNOT(wires=[0, 1])\n",
        "\n",
        "    # parameterized rotation on qubit 0\n",
        "    qml.RZ(params[2], wires=0)\n",
        "\n",
        "    # mesure expectation values of pauli-z on qubits\n",
        "    return qml.expval(qml.PauliZ(0)), qml.expval(qml.PauliZ(1))\n",
        "\n",
        "# compares circuit output to a target output\n",
        "def cost(params, x, target):\n",
        "    predictions = variational_circuit(params, x)\n",
        "\n",
        "\n",
        "    return np.sum((np.array(predictions) - np.array(target)) ** 2)\n",
        "\n",
        "# initialize parameters randomly with pi\n",
        "np.random.seed(42)\n",
        "init_params = np.random.uniform(low=-np.pi, high=np.pi, size=3)\n",
        "\n",
        "x_input = np.pi / 4\n",
        "target_output = [0.5, -0.5]\n",
        "\n",
        "#  optimizer is gradient descent\n",
        "opt = qml.GradientDescentOptimizer(stepsize=0.1)\n",
        "steps = 50\n",
        "params = init_params\n",
        "\n",
        "# loop to minimize the cost function\n",
        "for i in range(steps):\n",
        "    params = opt.step(lambda p: cost(p, x_input, target_output), params)\n",
        "    if i % 10 == 0:\n",
        "        current_cost = cost(params, x_input, target_output)\n",
        "        print(f\"Step {i}: Cost = {current_cost:.4f}\")\n",
        "\n",
        "print(\"Optimized Parameters:\", params)\n",
        "print(\"Final Circuit Output:\", variational_circuit(params, x_input))\n"
      ],
      "metadata": {
        "colab": {
          "base_uri": "https://localhost:8080/"
        },
        "id": "EROF72tpmmCc",
        "outputId": "1da2d5e3-7201-415d-db70-077ef13aa5ab"
      },
      "execution_count": 6,
      "outputs": [
        {
          "output_type": "stream",
          "name": "stderr",
          "text": [
            "/usr/local/lib/python3.11/dist-packages/pennylane/_grad.py:216: UserWarning: Attempted to differentiate a function with no trainable parameters. If this is unintended, please add trainable parameters via the 'requires_grad' attribute or 'argnum' keyword.\n",
            "  warnings.warn(\n"
          ]
        },
        {
          "output_type": "stream",
          "name": "stdout",
          "text": [
            "Step 0: Cost = 0.0006\n",
            "Step 10: Cost = 0.0006\n",
            "Step 20: Cost = 0.0006\n",
            "Step 30: Cost = 0.0006\n",
            "Step 40: Cost = 0.0006\n",
            "Optimized Parameters: [-0.78828768  2.83192151  1.45766093]\n",
            "Final Circuit Output: (0.4985531554319675, -0.47483889537316776)\n"
          ]
        }
      ]
    },
    {
      "cell_type": "markdown",
      "source": [
        "This demonstrates a simple parameterized quantum circuit with parameters 0 and 1. These parameters are entangled using a CNOT gate. Gradient descent is then applied as the optimizer to determine the correct parameters."
      ],
      "metadata": {
        "id": "3YCC3My--MZt"
      }
    },
    {
      "cell_type": "code",
      "source": [
        "import pennylane as qml\n",
        "import numpy as np\n",
        "import matplotlib.pyplot as plt\n",
        "import time\n",
        "\n",
        "n_qubits = 6\n",
        "n_items = 2 ** n_qubits\n",
        "\n",
        "dev = qml.device(\"lightning.qubit\", wires=n_qubits)\n",
        "\n",
        "# grover algo with adjustable iterations\n",
        "@qml.qnode(dev)\n",
        "def grover_search(oracle, iterations):\n",
        "    # put q in  superposition\n",
        "    for wire in range(n_qubits):\n",
        "        qml.Hadamard(wires=wire)\n",
        "\n",
        "    #  grover iterations\n",
        "    for _ in range(iterations):\n",
        "        oracle()\n",
        "\n",
        "        for wire in range(n_qubits):\n",
        "            qml.Hadamard(wires=wire)\n",
        "            qml.PauliX(wires=wire)\n",
        "        qml.MultiRZ(np.pi, wires=range(n_qubits))\n",
        "        for wire in range(n_qubits):\n",
        "            qml.PauliX(wires=wire)\n",
        "            qml.Hadamard(wires=wire)\n",
        "\n",
        "    return qml.probs(wires=range(n_qubits))\n",
        "\n",
        "def quantum_oracle():\n",
        "    for i in range(n_qubits):\n",
        "        if (10 >> i) & 1:\n",
        "            qml.PauliX(i)\n",
        "    # phase flip on\n",
        "    qml.MultiRZ(np.pi, wires=range(n_qubits))\n",
        "    # undo the bit flips\n",
        "    for i in range(n_qubits):\n",
        "        if (10 >> i) & 1:\n",
        "            qml.PauliX(i)\n",
        "\n",
        "# classical linear search\n",
        "def classical_search(items, target):\n",
        "    for i, item in enumerate(items):\n",
        "        if item == target:\n",
        "            return i\n",
        "    return -1\n",
        "\n",
        "# setup\n",
        "quantum_items = list(range(n_items))\n",
        "classical_items = list(range(n_items))\n",
        "target_item = 10\n",
        "\n",
        "\n",
        "start_time = time.time()\n",
        "result_classical = classical_search(classical_items, target_item)\n",
        "classical_time = time.time() - start_time\n",
        "\n",
        "\n",
        "fixed_iterations = 10\n",
        "\n",
        "# q search simulation\n",
        "start_time = time.time()\n",
        "quantum_result = grover_search(quantum_oracle, iterations=fixed_iterations)\n",
        "quantum_simulation_time = time.time() - start_time\n",
        "\n",
        "# theoretical Qquantum Time (√N speedup)\n",
        "theoretical_quantum_time = classical_time / np.sqrt(n_items)\n",
        "\n",
        "#  times to milliseconds\n",
        "classical_time_ms = classical_time * 1000\n",
        "theoretical_quantum_time_ms = theoretical_quantum_time * 1000\n",
        "\n",
        "print(f\"Classical search time for {n_items} items: {classical_time_ms:.6f} milliseconds\")\n",
        "print(f\"Quantum search simulation time: {quantum_simulation_time * 1000:.6f} milliseconds\")\n",
        "print(f\"Theoretical Quantum search time: {theoretical_quantum_time_ms:.6f} milliseconds\")\n",
        "\n",
        "# cal %\n",
        "dif = abs(classical_time - theoretical_quantum_time)\n",
        "percent_diff = (dif / classical_time) * 100 if classical_time != 0 else 0\n",
        "\n",
        "print(f\"Percentage difference between Theoretical and Classical time: {percent_diff:.2f}%\")\n",
        "\n",
        "\n",
        "labels = ['Classical', 'Quantum (Theoretical)']\n",
        "times = [classical_time_ms, theoretical_quantum_time_ms]\n",
        "\n",
        "plt.figure(figsize=(10, 5))\n",
        "plt.bar(labels, times)\n",
        "plt.title('Comparison of Search Times - Theoretical vs Classical')\n",
        "plt.ylabel('Time (milliseconds)')\n",
        "plt.show()\n",
        "\n",
        "print(f\"Classical found item {target_item} at index {result_classical}\")\n",
        "print(f\"Quantum found item at state |{bin(target_item)[2:].zfill(n_qubits)}⟩ with probability {quantum_result[target_item]:.6f}\")"
      ],
      "metadata": {
        "colab": {
          "base_uri": "https://localhost:8080/",
          "height": 561
        },
        "id": "ghT61rRUAKzD",
        "outputId": "782fea14-834e-46a1-ccde-e533ea3426d2"
      },
      "execution_count": 7,
      "outputs": [
        {
          "output_type": "stream",
          "name": "stdout",
          "text": [
            "Classical search time for 64 items: 0.092268 milliseconds\n",
            "Quantum search simulation time: 88.562965 milliseconds\n",
            "Theoretical Quantum search time: 0.011533 milliseconds\n",
            "Percentage difference between Theoretical and Classical time: 87.50%\n"
          ]
        },
        {
          "output_type": "display_data",
          "data": {
            "text/plain": [
              "<Figure size 1000x500 with 1 Axes>"
            ],
            "image/png": "[encoded data removed]"
          },
          "metadata": {}
        },
        {
          "output_type": "stream",
          "name": "stdout",
          "text": [
            "Classical found item 10 at index 10\n",
            "Quantum found item at state |001010⟩ with probability 0.015625\n"
          ]
        }
      ]
    },
    {
      "cell_type": "markdown",
      "source": [
        "The quantum search algorithm works by first putting everything into a superposition. Then, we mark the target we want by flipping its phase, making it stand out. We repeat this process a few times to amplify the target's probability, ensuring we find it with high accuracy."
      ],
      "metadata": {
        "id": "L35I2dBxUzVE"
      }
    }
  ]
}