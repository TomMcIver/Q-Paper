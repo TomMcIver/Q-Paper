{
  "nbformat": 4,
  "nbformat_minor": 0,
  "metadata": {
    "colab": {
      "provenance": [],
      "authorship_tag": "ABX9TyMurliBA3KQ7rfs6KQ+kjSG",
      "include_colab_link": true
    },
    "kernelspec": {
      "name": "python3",
      "display_name": "Python 3"
    },
    "language_info": {
      "name": "python"
    }
  },
  "cells": [
    {
      "cell_type": "markdown",
      "metadata": {
        "id": "view-in-github",
        "colab_type": "text"
      },
      "source": [
        "<a href=\"https://colab.research.google.com/github/TomMcIver/Q-Paper/blob/main/Q_Blueprint.ipynb\" target=\"_parent\"><img src=\"https://colab.research.google.com/assets/colab-badge.svg\" alt=\"Open In Colab\"/></a>"
      ]
    },
    {
      "cell_type": "code",
      "source": [
        "!pip uninstall -y qiskit qiskit-aer qiskit-terra qiskit-ibmq-provider\n",
        "!pip install qiskit qiskit-aer --upgrade\n",
        "!pip install PennyLane-Lightning\n"
      ],
      "metadata": {
        "colab": {
          "base_uri": "https://localhost:8080/"
        },
        "id": "AE6cqY3C16ls",
        "outputId": "0432c1a1-ac9a-42f5-d951-a153d7076a59"
      },
      "execution_count": 1,
      "outputs": [
        {
          "output_type": "stream",
          "name": "stdout",
          "text": [
            "Found existing installation: qiskit 1.3.2\n",
            "Uninstalling qiskit-1.3.2:\n",
            "  Successfully uninstalled qiskit-1.3.2\n",
            "Found existing installation: qiskit-aer 0.16.1\n",
            "Uninstalling qiskit-aer-0.16.1:\n",
            "  Successfully uninstalled qiskit-aer-0.16.1\n",
            "\u001b[33mWARNING: Skipping qiskit-terra as it is not installed.\u001b[0m\u001b[33m\n",
            "\u001b[0m\u001b[33mWARNING: Skipping qiskit-ibmq-provider as it is not installed.\u001b[0m\u001b[33m\n",
            "\u001b[0mCollecting qiskit\n",
            "  Using cached qiskit-1.3.2-cp39-abi3-manylinux_2_17_x86_64.manylinux2014_x86_64.whl.metadata (12 kB)\n",
            "Collecting qiskit-aer\n",
            "  Using cached qiskit_aer-0.16.1-cp311-cp311-manylinux_2_17_x86_64.manylinux2014_x86_64.whl.metadata (8.2 kB)\n",
            "Requirement already satisfied: rustworkx>=0.15.0 in /usr/local/lib/python3.11/dist-packages (from qiskit) (0.16.0)\n",
            "Requirement already satisfied: numpy<3,>=1.17 in /usr/local/lib/python3.11/dist-packages (from qiskit) (1.26.4)\n",
            "Requirement already satisfied: scipy>=1.5 in /usr/local/lib/python3.11/dist-packages (from qiskit) (1.13.1)\n",
            "Requirement already satisfied: sympy>=1.3 in /usr/local/lib/python3.11/dist-packages (from qiskit) (1.13.1)\n",
            "Requirement already satisfied: dill>=0.3 in /usr/local/lib/python3.11/dist-packages (from qiskit) (0.3.9)\n",
            "Requirement already satisfied: python-dateutil>=2.8.0 in /usr/local/lib/python3.11/dist-packages (from qiskit) (2.8.2)\n",
            "Requirement already satisfied: stevedore>=3.0.0 in /usr/local/lib/python3.11/dist-packages (from qiskit) (5.4.0)\n",
            "Requirement already satisfied: typing-extensions in /usr/local/lib/python3.11/dist-packages (from qiskit) (4.12.2)\n",
            "Requirement already satisfied: symengine<0.14,>=0.11 in /usr/local/lib/python3.11/dist-packages (from qiskit) (0.13.0)\n",
            "Requirement already satisfied: psutil>=5 in /usr/local/lib/python3.11/dist-packages (from qiskit-aer) (5.9.5)\n",
            "Requirement already satisfied: six>=1.5 in /usr/local/lib/python3.11/dist-packages (from python-dateutil>=2.8.0->qiskit) (1.17.0)\n",
            "Requirement already satisfied: pbr>=2.0.0 in /usr/local/lib/python3.11/dist-packages (from stevedore>=3.0.0->qiskit) (6.1.1)\n",
            "Requirement already satisfied: mpmath<1.4,>=1.1.0 in /usr/local/lib/python3.11/dist-packages (from sympy>=1.3->qiskit) (1.3.0)\n",
            "Requirement already satisfied: setuptools in /usr/local/lib/python3.11/dist-packages (from pbr>=2.0.0->stevedore>=3.0.0->qiskit) (75.1.0)\n",
            "Using cached qiskit-1.3.2-cp39-abi3-manylinux_2_17_x86_64.manylinux2014_x86_64.whl (6.8 MB)\n",
            "Using cached qiskit_aer-0.16.1-cp311-cp311-manylinux_2_17_x86_64.manylinux2014_x86_64.whl (12.4 MB)\n",
            "Installing collected packages: qiskit, qiskit-aer\n",
            "Successfully installed qiskit-1.3.2 qiskit-aer-0.16.1\n",
            "Requirement already satisfied: PennyLane-Lightning in /usr/local/lib/python3.11/dist-packages (0.40.0)\n",
            "Requirement already satisfied: pennylane>=0.37 in /usr/local/lib/python3.11/dist-packages (from PennyLane-Lightning) (0.40.0)\n",
            "Requirement already satisfied: scipy-openblas32>=0.3.26 in /usr/local/lib/python3.11/dist-packages (from PennyLane-Lightning) (0.3.29.0.0)\n",
            "Requirement already satisfied: numpy<2.1 in /usr/local/lib/python3.11/dist-packages (from pennylane>=0.37->PennyLane-Lightning) (1.26.4)\n",
            "Requirement already satisfied: scipy in /usr/local/lib/python3.11/dist-packages (from pennylane>=0.37->PennyLane-Lightning) (1.13.1)\n",
            "Requirement already satisfied: networkx in /usr/local/lib/python3.11/dist-packages (from pennylane>=0.37->PennyLane-Lightning) (3.4.2)\n",
            "Requirement already satisfied: rustworkx>=0.14.0 in /usr/local/lib/python3.11/dist-packages (from pennylane>=0.37->PennyLane-Lightning) (0.16.0)\n",
            "Requirement already satisfied: autograd in /usr/local/lib/python3.11/dist-packages (from pennylane>=0.37->PennyLane-Lightning) (1.7.0)\n",
            "Requirement already satisfied: tomlkit in /usr/local/lib/python3.11/dist-packages (from pennylane>=0.37->PennyLane-Lightning) (0.13.2)\n",
            "Requirement already satisfied: appdirs in /usr/local/lib/python3.11/dist-packages (from pennylane>=0.37->PennyLane-Lightning) (1.4.4)\n",
            "Requirement already satisfied: autoray>=0.6.11 in /usr/local/lib/python3.11/dist-packages (from pennylane>=0.37->PennyLane-Lightning) (0.7.0)\n",
            "Requirement already satisfied: cachetools in /usr/local/lib/python3.11/dist-packages (from pennylane>=0.37->PennyLane-Lightning) (5.5.1)\n",
            "Requirement already satisfied: requests in /usr/local/lib/python3.11/dist-packages (from pennylane>=0.37->PennyLane-Lightning) (2.32.3)\n",
            "Requirement already satisfied: typing-extensions in /usr/local/lib/python3.11/dist-packages (from pennylane>=0.37->PennyLane-Lightning) (4.12.2)\n",
            "Requirement already satisfied: packaging in /usr/local/lib/python3.11/dist-packages (from pennylane>=0.37->PennyLane-Lightning) (24.2)\n",
            "Requirement already satisfied: diastatic-malt in /usr/local/lib/python3.11/dist-packages (from pennylane>=0.37->PennyLane-Lightning) (2.15.2)\n",
            "Requirement already satisfied: astunparse in /usr/local/lib/python3.11/dist-packages (from diastatic-malt->pennylane>=0.37->PennyLane-Lightning) (1.6.3)\n",
            "Requirement already satisfied: gast in /usr/local/lib/python3.11/dist-packages (from diastatic-malt->pennylane>=0.37->PennyLane-Lightning) (0.6.0)\n",
            "Requirement already satisfied: termcolor in /usr/local/lib/python3.11/dist-packages (from diastatic-malt->pennylane>=0.37->PennyLane-Lightning) (2.5.0)\n",
            "Requirement already satisfied: charset-normalizer<4,>=2 in /usr/local/lib/python3.11/dist-packages (from requests->pennylane>=0.37->PennyLane-Lightning) (3.4.1)\n",
            "Requirement already satisfied: idna<4,>=2.5 in /usr/local/lib/python3.11/dist-packages (from requests->pennylane>=0.37->PennyLane-Lightning) (3.10)\n",
            "Requirement already satisfied: urllib3<3,>=1.21.1 in /usr/local/lib/python3.11/dist-packages (from requests->pennylane>=0.37->PennyLane-Lightning) (2.3.0)\n",
            "Requirement already satisfied: certifi>=2017.4.17 in /usr/local/lib/python3.11/dist-packages (from requests->pennylane>=0.37->PennyLane-Lightning) (2025.1.31)\n",
            "Requirement already satisfied: wheel<1.0,>=0.23.0 in /usr/local/lib/python3.11/dist-packages (from astunparse->diastatic-malt->pennylane>=0.37->PennyLane-Lightning) (0.45.1)\n",
            "Requirement already satisfied: six<2.0,>=1.6.1 in /usr/local/lib/python3.11/dist-packages (from astunparse->diastatic-malt->pennylane>=0.37->PennyLane-Lightning) (1.17.0)\n"
          ]
        }
      ]
    },
    {
      "cell_type": "code",
      "execution_count": 2,
      "metadata": {
        "id": "XyCl7COj1k0Q"
      },
      "outputs": [],
      "source": [
        "import numpy as np\n",
        "import matplotlib.pyplot as plt\n",
        "from qiskit import QuantumCircuit, transpile\n",
        "from qiskit_aer import Aer\n",
        "from qiskit.visualization import plot_bloch_multivector, plot_histogram\n",
        "import pennylane as qml\n",
        "\n",
        "plt.rcParams[\"figure.figsize\"] = (8, 6)\n"
      ]
    },
    {
      "cell_type": "code",
      "source": [
        "import numpy as np\n",
        "\n",
        "class Qubit:\n",
        "    def __init__(self):\n",
        "\n",
        "        self.state = np.array([1, 0], dtype=complex)\n",
        "\n",
        "    def apply_hadamard(self):\n",
        "        #apply Hadamard gate\n",
        "        H = np.array([[1, 1], [1, -1]]) / np.sqrt(2)\n",
        "        self.state = H @ self.state\n",
        "\n",
        "    def measure(self):\n",
        "        # measure the qubit returns 0 or 1 with a rough 50% probability\n",
        "        return np.random.choice([0, 1], p=np.abs(self.state)**2)\n",
        "\n",
        "\n",
        "qubit = Qubit()\n",
        "\n",
        "print(\"Before Hadamard:\", qubit.state)\n",
        "\n",
        "\n",
        "qubit.apply_hadamard()\n",
        "\n",
        "print(\"After Hadamard:\", qubit.state)\n",
        "\n",
        "\n",
        "results = [qubit.measure() for _ in range(10)]\n",
        "print(\"Measurement results:\", results)\n"
      ],
      "metadata": {
        "colab": {
          "base_uri": "https://localhost:8080/"
        },
        "id": "043MOL001ylU",
        "outputId": "e357f9f7-f38a-471f-a1c8-e5d25b720e99"
      },
      "execution_count": 3,
      "outputs": [
        {
          "output_type": "stream",
          "name": "stdout",
          "text": [
            "Before Hadamard: [1.+0.j 0.+0.j]\n",
            "After Hadamard: [0.70710678+0.j 0.70710678+0.j]\n",
            "Measurement results: [1, 0, 1, 1, 1, 0, 0, 0, 1, 0]\n"
          ]
        }
      ]
    },
    {
      "cell_type": "markdown",
      "source": [
        "### This code shows the initialization of a Qubit of |0⟩ and |1⟩ in superposition using the Hadamrd gate.  And how the probablityes work when measured."
      ],
      "metadata": {
        "id": "Mrp_JNpnDW_m"
      }
    },
    {
      "cell_type": "code",
      "source": [
        "import numpy as np\n",
        "\n",
        "class QuantumRegister:\n",
        "    def __init__(self):\n",
        "\n",
        "        self.state = np.array([1, 0, 0, 0], dtype=complex)\n",
        "\n",
        "    def apply_hadamard(self, qubit):\n",
        "         #hadamard gate to one qubit.\n",
        "        H = np.array([[1, 1], [1, -1]]) / np.sqrt(2)\n",
        "        gate = np.kron(H, np.eye(2)) if qubit == 0 else np.kron(np.eye(2), H)\n",
        "        self.state = gate @ self.state\n",
        "\n",
        "    def apply_cnot(self):\n",
        "        \"\"\" Apply CNOT gate to entangle qubits. \"\"\"\n",
        "        CNOT = np.array([[1, 0, 0, 0], [0, 1, 0, 0], [0, 0, 0, 1], [0, 0, 1, 0]])\n",
        "        self.state = CNOT @ self.state\n",
        "\n",
        "    def measure(self):\n",
        "        \"\"\" Measure the qubits and return 00, 01, 10, or 11. \"\"\"\n",
        "        return np.random.choice([0, 1, 2, 3], p=np.abs(self.state)**2)\n",
        "\n",
        "# apply hadamard & cnot aka: entanglement\n",
        "register = QuantumRegister()\n",
        "register.apply_hadamard(0)\n",
        "register.apply_cnot()\n",
        "\n",
        "# bell state\n",
        "bell_state = register.state\n",
        "print(f\"Bell State: ({bell_state[0]:.2f})|00⟩ + ({bell_state[3]:.2f})|11⟩\")\n",
        "\n",
        "# measure\n",
        "results = [f\"{register.measure():02b}\" for _ in range(10)]\n",
        "print(\"Measurement outcomes:\", \", \".join(results))\n"
      ],
      "metadata": {
        "colab": {
          "base_uri": "https://localhost:8080/"
        },
        "id": "3CnlXSDfEbR_",
        "outputId": "67f788f6-c4e1-46ce-de12-cf9723db52dd"
      },
      "execution_count": 4,
      "outputs": [
        {
          "output_type": "stream",
          "name": "stdout",
          "text": [
            "Bell State: (0.71+0.00j)|00⟩ + (0.71+0.00j)|11⟩\n",
            "Measurement outcomes: 11, 00, 11, 00, 00, 00, 00, 00, 11, 00\n"
          ]
        }
      ]
    },
    {
      "cell_type": "markdown",
      "source": [
        "### This creates a register of a quantum system that uses two qubits puts one in a superposition and then entangles it with another (more specifically a bell state this is mainly sued for 2 qubits). From there we get the bell state and then measure the system collapsing the qubits into there different states."
      ],
      "metadata": {
        "id": "wD2lTOirIw2W"
      }
    },
    {
      "cell_type": "code",
      "source": [
        "import pennylane as qml\n",
        "import numpy as np\n",
        "\n",
        "#2 qubits\n",
        "dev = qml.device(\"lightning.qubit\", wires=2)\n",
        "\n",
        "# variational quantum circuit\n",
        "@qml.qnode(dev)\n",
        "def variational_circuit(params, x):\n",
        "\n",
        "    qml.RX(x, wires=0)\n",
        "\n",
        "    # apply parameterized rotations on both qubits\n",
        "    qml.RY(params[0], wires=0)\n",
        "    qml.RY(params[1], wires=1)\n",
        "\n",
        "    # entanglement with a CNOT gate\n",
        "    qml.CNOT(wires=[0, 1])\n",
        "\n",
        "    # parameterized rotation on qubit 0\n",
        "    qml.RZ(params[2], wires=0)\n",
        "\n",
        "    # mesure expectation values of pauli-z on qubits\n",
        "    return qml.expval(qml.PauliZ(0)), qml.expval(qml.PauliZ(1))\n",
        "\n",
        "# compares circuit output to a target output\n",
        "def cost(params, x, target):\n",
        "    predictions = variational_circuit(params, x)\n",
        "\n",
        "\n",
        "    return np.sum((np.array(predictions) - np.array(target)) ** 2)\n",
        "\n",
        "# initialize parameters randomly with pi\n",
        "np.random.seed(42)\n",
        "init_params = np.random.uniform(low=-np.pi, high=np.pi, size=3)\n",
        "\n",
        "x_input = np.pi / 4\n",
        "target_output = [0.5, -0.5]\n",
        "\n",
        "#  optimizer is gradient descent\n",
        "opt = qml.GradientDescentOptimizer(stepsize=0.1)\n",
        "steps = 50\n",
        "params = init_params\n",
        "\n",
        "# loop to minimize the cost function\n",
        "for i in range(steps):\n",
        "    params = opt.step(lambda p: cost(p, x_input, target_output), params)\n",
        "    if i % 10 == 0:\n",
        "        current_cost = cost(params, x_input, target_output)\n",
        "        print(f\"Step {i}: Cost = {current_cost:.4f}\")\n",
        "\n",
        "print(\"Optimized Parameters:\", params)\n",
        "print(\"Final Circuit Output:\", variational_circuit(params, x_input))\n"
      ],
      "metadata": {
        "id": "EROF72tpmmCc",
        "outputId": "cd2d0452-3700-4623-82e0-8d1cbff61400",
        "colab": {
          "base_uri": "https://localhost:8080/"
        }
      },
      "execution_count": 6,
      "outputs": [
        {
          "output_type": "stream",
          "name": "stdout",
          "text": [
            "Step 0: Cost = 0.0006\n",
            "Step 10: Cost = 0.0006\n",
            "Step 20: Cost = 0.0006\n",
            "Step 30: Cost = 0.0006\n",
            "Step 40: Cost = 0.0006\n",
            "Optimized Parameters: [-0.78828768  2.83192151  1.45766093]\n",
            "Final Circuit Output: (0.4985531554319675, -0.47483889537316776)\n"
          ]
        }
      ]
    },
    {
      "cell_type": "markdown",
      "source": [
        "This demonstrates a simple parameterized quantum circuit with parameters 0 and 1. These parameters are entangled using a CNOT gate. Gradient descent is then applied as the optimizer to determine the correct parameters."
      ],
      "metadata": {
        "id": "3YCC3My--MZt"
      }
    },
    {
      "cell_type": "code",
      "source": [],
      "metadata": {
        "id": "ghT61rRUAKzD"
      },
      "execution_count": null,
      "outputs": []
    }
  ]
}